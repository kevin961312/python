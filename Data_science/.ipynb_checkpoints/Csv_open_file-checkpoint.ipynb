{
 "cells": [
  {
   "cell_type": "code",
   "execution_count": 3,
   "metadata": {},
   "outputs": [
    {
     "data": {
      "text/plain": [
       "[OrderedDict([('mpg', '18'),\n",
       "              ('cylinders', '8'),\n",
       "              ('displacement', '307'),\n",
       "              ('horsepower', '130'),\n",
       "              ('weight', '3504'),\n",
       "              ('acceleration', '12'),\n",
       "              ('model_year', '70'),\n",
       "              ('origin', '1'),\n",
       "              ('name', 'chevrolet chevelle malibu')]),\n",
       " OrderedDict([('mpg', '15'),\n",
       "              ('cylinders', '8'),\n",
       "              ('displacement', '350'),\n",
       "              ('horsepower', '165'),\n",
       "              ('weight', '3693'),\n",
       "              ('acceleration', '11.5'),\n",
       "              ('model_year', '70'),\n",
       "              ('origin', '1'),\n",
       "              ('name', 'buick skylark 320')]),\n",
       " OrderedDict([('mpg', '18'),\n",
       "              ('cylinders', '8'),\n",
       "              ('displacement', '318'),\n",
       "              ('horsepower', '150'),\n",
       "              ('weight', '3436'),\n",
       "              ('acceleration', '11'),\n",
       "              ('model_year', '70'),\n",
       "              ('origin', '1'),\n",
       "              ('name', 'plymouth satellite')])]"
      ]
     },
     "execution_count": 3,
     "metadata": {},
     "output_type": "execute_result"
    }
   ],
   "source": [
    "import csv\n",
    "%precision 2\n",
    "with open('mpg.csv') as csvfile:\n",
    "    mpg = list(csv.DictReader(csvfile))\n",
    "\n",
    "mpg[:3]\n",
    "    "
   ]
  },
  {
   "cell_type": "code",
   "execution_count": 4,
   "metadata": {},
   "outputs": [
    {
     "data": {
      "text/plain": [
       "398"
      ]
     },
     "execution_count": 4,
     "metadata": {},
     "output_type": "execute_result"
    }
   ],
   "source": [
    "len(mpg\n",
    ")"
   ]
  },
  {
   "cell_type": "code",
   "execution_count": 6,
   "metadata": {},
   "outputs": [
    {
     "data": {
      "text/plain": [
       "odict_keys(['mpg', 'cylinders', 'displacement', 'horsepower', 'weight', 'acceleration', 'model_year', 'origin', 'name'])"
      ]
     },
     "execution_count": 6,
     "metadata": {},
     "output_type": "execute_result"
    }
   ],
   "source": [
    "mpg[0].keys()"
   ]
  },
  {
   "cell_type": "code",
   "execution_count": null,
   "metadata": {},
   "outputs": [],
   "source": []
  }
 ],
 "metadata": {
  "kernelspec": {
   "display_name": "Python 3",
   "language": "python",
   "name": "python3"
  },
  "language_info": {
   "codemirror_mode": {
    "name": "ipython",
    "version": 3
   },
   "file_extension": ".py",
   "mimetype": "text/x-python",
   "name": "python",
   "nbconvert_exporter": "python",
   "pygments_lexer": "ipython3",
   "version": "3.7.6"
  }
 },
 "nbformat": 4,
 "nbformat_minor": 4
}
