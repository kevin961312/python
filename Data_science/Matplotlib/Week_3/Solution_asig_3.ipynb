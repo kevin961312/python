{
 "cells": [
  {
   "cell_type": "code",
   "execution_count": 9,
   "metadata": {},
   "outputs": [
    {
     "name": "stdout",
     "output_type": "stream",
     "text": [
      "Warning: Cannot change to a different GUI toolkit: notebook. Using widget instead.\n"
     ]
    },
    {
     "data": {
      "text/html": [
       "<div>\n",
       "<style scoped>\n",
       "    .dataframe tbody tr th:only-of-type {\n",
       "        vertical-align: middle;\n",
       "    }\n",
       "\n",
       "    .dataframe tbody tr th {\n",
       "        vertical-align: top;\n",
       "    }\n",
       "\n",
       "    .dataframe thead th {\n",
       "        text-align: right;\n",
       "    }\n",
       "</style>\n",
       "<table border=\"1\" class=\"dataframe\">\n",
       "  <thead>\n",
       "    <tr style=\"text-align: right;\">\n",
       "      <th></th>\n",
       "      <th>1992</th>\n",
       "      <th>1993</th>\n",
       "      <th>1994</th>\n",
       "      <th>1995</th>\n",
       "    </tr>\n",
       "  </thead>\n",
       "  <tbody>\n",
       "    <tr>\n",
       "      <th>count</th>\n",
       "      <td>3650.000000</td>\n",
       "      <td>3650.000000</td>\n",
       "      <td>3650.000000</td>\n",
       "      <td>3650.000000</td>\n",
       "    </tr>\n",
       "    <tr>\n",
       "      <th>mean</th>\n",
       "      <td>33312.107476</td>\n",
       "      <td>41861.859541</td>\n",
       "      <td>39493.304941</td>\n",
       "      <td>47743.550969</td>\n",
       "    </tr>\n",
       "    <tr>\n",
       "      <th>std</th>\n",
       "      <td>200630.901553</td>\n",
       "      <td>98398.356203</td>\n",
       "      <td>140369.925240</td>\n",
       "      <td>69781.185469</td>\n",
       "    </tr>\n",
       "    <tr>\n",
       "      <th>min</th>\n",
       "      <td>-717071.175466</td>\n",
       "      <td>-321586.023683</td>\n",
       "      <td>-450827.613097</td>\n",
       "      <td>-189865.963265</td>\n",
       "    </tr>\n",
       "    <tr>\n",
       "      <th>25%</th>\n",
       "      <td>-102740.398364</td>\n",
       "      <td>-26628.302213</td>\n",
       "      <td>-57436.397393</td>\n",
       "      <td>1774.555612</td>\n",
       "    </tr>\n",
       "    <tr>\n",
       "      <th>50%</th>\n",
       "      <td>29674.931050</td>\n",
       "      <td>43001.976658</td>\n",
       "      <td>41396.781369</td>\n",
       "      <td>49404.322978</td>\n",
       "    </tr>\n",
       "    <tr>\n",
       "      <th>75%</th>\n",
       "      <td>167441.838695</td>\n",
       "      <td>108296.577923</td>\n",
       "      <td>137261.713785</td>\n",
       "      <td>94164.333867</td>\n",
       "    </tr>\n",
       "    <tr>\n",
       "      <th>max</th>\n",
       "      <td>817505.608159</td>\n",
       "      <td>395586.505068</td>\n",
       "      <td>490091.665037</td>\n",
       "      <td>320826.888044</td>\n",
       "    </tr>\n",
       "  </tbody>\n",
       "</table>\n",
       "</div>"
      ],
      "text/plain": [
       "                1992           1993           1994           1995\n",
       "count    3650.000000    3650.000000    3650.000000    3650.000000\n",
       "mean    33312.107476   41861.859541   39493.304941   47743.550969\n",
       "std    200630.901553   98398.356203  140369.925240   69781.185469\n",
       "min   -717071.175466 -321586.023683 -450827.613097 -189865.963265\n",
       "25%   -102740.398364  -26628.302213  -57436.397393    1774.555612\n",
       "50%     29674.931050   43001.976658   41396.781369   49404.322978\n",
       "75%    167441.838695  108296.577923  137261.713785   94164.333867\n",
       "max    817505.608159  395586.505068  490091.665037  320826.888044"
      ]
     },
     "execution_count": 9,
     "metadata": {},
     "output_type": "execute_result"
    }
   ],
   "source": [
    "%matplotlib notebook\n",
    "import pandas as pd\n",
    "import numpy as np\n",
    "import scipy.stats as st\n",
    "from matplotlib.patches import Rectangle\n",
    "import matplotlib.pyplot as plt\n",
    "from collections import OrderedDict\n",
    "import matplotlib.ticker as ticker\n",
    "\n",
    "np.random.seed(12345)\n",
    "\n",
    "df = pd.DataFrame([np.random.normal(32000,200000,3650), \n",
    "                   np.random.normal(43000,100000,3650), \n",
    "                   np.random.normal(43500,140000,3650), \n",
    "                   np.random.normal(48000,70000,3650)], \n",
    "                  index=[1992,1993,1994,1995])\n",
    "df.transpose().head()\n",
    "df.T.describe()"
   ]
  },
  {
   "cell_type": "code",
   "execution_count": 10,
   "metadata": {},
   "outputs": [
    {
     "name": "stdout",
     "output_type": "stream",
     "text": [
      "              mean         i_min         i_max         yerr            std  \\\n",
      "1992  33312.107476  31991.047635  34633.167316  2642.119681  200548.481103   \n",
      "1993  41861.859541  41213.952784  42509.766298  1295.813514   98357.933533   \n",
      "1994  39493.304941  38569.035202  40417.574680  1848.539478  140312.260383   \n",
      "1995  47743.550969  47284.074782  48203.027157   918.952375   69752.518915   \n",
      "\n",
      "             sem  \n",
      "1992  414.693281  \n",
      "1993  203.373937  \n",
      "1994  290.129974  \n",
      "1995  144.222196  \n"
     ]
    }
   ],
   "source": [
    "#Etremo del limite de confianza para la media con varianza desconocidad, \n",
    "#esto es un uso de la distribucion t-students. Se usa el paquete de estadistica de la libreria scipy\n",
    "df['i_min'], df['i_max'] = st.t.interval(0.95, len(df.count(axis=1))-1, loc= df.mean(axis=1), scale = df.sem(axis=1)*1/8 )\n",
    "df['mean'] = df.mean(axis=1)\n",
    "df['std']  = df.std(axis=1)\n",
    "df['sem']  = df.sem(axis=1)*1/8\n",
    "df['yerr'] = df['i_max'].abs()-df['i_min'].abs()\n",
    "print(df[['mean', 'i_min', 'i_max', 'yerr', 'std', 'sem']])"
   ]
  },
  {
   "cell_type": "code",
   "execution_count": 11,
   "metadata": {},
   "outputs": [],
   "source": [
    "alpha_co = 0.7\n",
    "cl_max_color='red'\n",
    "cl_min_color='blue'\n",
    "cl_neitral_color='grey'\n",
    "\n",
    "class CursorE(object):\n",
    "    _df = None\n",
    "    _bl = None\n",
    "    _num_bins = 8\n",
    "    def __init__(self, ax, data_F, bars):\n",
    "        self._df = data_F\n",
    "        self._bl = bars\n",
    "        self.ax  = ax\n",
    "        self.lx  = ax.axhline(color='black')\n",
    "        \n",
    "    def _get_color(self, d_series, val):\n",
    "        s = d_series(['i_min', 'i_max'])\n",
    "        s['val'] = val\n",
    "        s = pd.cut(s, bins = self._num_bins, labels = list(range(self._num_bins)), \n",
    "                   include_lowest=False, right=True)\n",
    "        return self._colors[s['var']+1]\n",
    "        \n",
    "    def mouse_move(self, event):\n",
    "        if not event.inaxes:\n",
    "            return\n",
    "        x,y = event.xdata, event.ydata\n",
    "        self.lx.set_ydata(y)\n",
    "        for index, row in self._df.iterrows():\n",
    "            if row['i_max'] < y:\n",
    "                self._bl[self._df.index.get_loc(index)].set_color(cl_min_color)\n",
    "                continue\n",
    "            if row['i_min'] > y:\n",
    "                self._bl[self._df.index.get_loc(index)].set_color(cl_max_color)\n",
    "                continue\n",
    "            self._bl[self._df.index.get_loc(index)].set_color(cl_neitral_color)  \n",
    "        plt.draw()\n",
    "                  "
   ]
  },
  {
   "cell_type": "code",
   "execution_count": 12,
   "metadata": {},
   "outputs": [],
   "source": [
    "def plot_base(fix_x, fig_y, fig_title, c_alpha=0.5):\n",
    "    ax = df['mean'].plot.bar(yerr=df['yerr'], \n",
    "        title =fig_title, figsize=(fix_x, fig_y), \n",
    "        legend=False, fontsize=10, alpha=c_alpha, width=0.95, \n",
    "        rot=0, position=0, style='-', color=cl_neitral_color)\n",
    "\n",
    "    ax.spines['top'].set_visible(False)\n",
    "    ax.spines['right'].set_visible(False)\n",
    "\n",
    "    ax.spines['left'].set_position('zero')\n",
    "    ax.spines['bottom'].set_position('zero')\n",
    "\n",
    "    majors = [0.5,1.5,2.5, 3.5]\n",
    "    ax.xaxis.set_major_locator(ticker.FixedLocator(majors))\n",
    "\n",
    "    plt.tight_layout()\n",
    "    \n",
    "    return (ax, ax.get_children()[1:5])\n"
   ]
  },
  {
   "cell_type": "code",
   "execution_count": 14,
   "metadata": {},
   "outputs": [
    {
     "data": {
      "text/plain": [
       "8"
      ]
     },
     "execution_count": 14,
     "metadata": {},
     "output_type": "execute_result"
    }
   ],
   "source": [
    "ax1, barlist1=plot_base(6, 6, 'Solution Exercise 3', c_alpha=0.5) \n",
    "\n",
    "bars_leg=[]\n",
    "\n",
    "plt.legend(loc='upper center', bbox_to_anchor=(0.5, -0.04), \n",
    "           handles=bars_leg, ncol=len(bars_leg), columnspacing=0.2, handletextpad=0.1, fontsize=7)\n",
    "\n",
    "plt.tight_layout()\n",
    "plt.show()\n",
    "\n",
    "hcursor = CursorE(ax1, df, barlist1)\n",
    "plt.connect('motion_notify_event', hcursor.mouse_move)"
   ]
  },
  {
   "cell_type": "code",
   "execution_count": null,
   "metadata": {},
   "outputs": [],
   "source": []
  },
  {
   "cell_type": "code",
   "execution_count": null,
   "metadata": {},
   "outputs": [],
   "source": []
  }
 ],
 "metadata": {
  "kernelspec": {
   "display_name": "Python 3",
   "language": "python",
   "name": "python3"
  },
  "language_info": {
   "codemirror_mode": {
    "name": "ipython",
    "version": 3
   },
   "file_extension": ".py",
   "mimetype": "text/x-python",
   "name": "python",
   "nbconvert_exporter": "python",
   "pygments_lexer": "ipython3",
   "version": "3.8.2"
  }
 },
 "nbformat": 4,
 "nbformat_minor": 4
}
