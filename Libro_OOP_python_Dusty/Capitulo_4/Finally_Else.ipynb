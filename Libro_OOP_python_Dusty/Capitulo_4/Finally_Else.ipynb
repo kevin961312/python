{
 "cells": [
  {
   "cell_type": "code",
   "execution_count": 7,
   "metadata": {},
   "outputs": [
    {
     "name": "stdout",
     "output_type": "stream",
     "text": [
      "Raising: None\n",
      "This code called if there is no exception\n",
      "This cleanup code is always called\n"
     ]
    }
   ],
   "source": [
    "import random\n",
    "some_exceptions = [ValueError, TypeError, IndexError, None]\n",
    "try:\n",
    "    choice = random.choice(some_exceptions)\n",
    "    print(\"Raising: {}\".format(choice))\n",
    "    if choice:\n",
    "        raise choice(\"An error\")\n",
    "except ValueError:\n",
    "    print(\"Caught a ValueError\")\n",
    "except TypeError:\n",
    "    print(\"Caught a TypeError\")\n",
    "except Exception as e:\n",
    "    print(\"Caught some other error: {}\".format(e.__class__.__name__))\n",
    "else: \n",
    "    print(\"This code called if there is no exception\")\n",
    "finally:\n",
    "     print(\"This cleanup code is always called\")"
   ]
  }
 ],
 "metadata": {
  "kernelspec": {
   "display_name": "Python 3",
   "language": "python",
   "name": "python3"
  },
  "language_info": {
   "codemirror_mode": {
    "name": "ipython",
    "version": 3
   },
   "file_extension": ".py",
   "mimetype": "text/x-python",
   "name": "python",
   "nbconvert_exporter": "python",
   "pygments_lexer": "ipython3",
   "version": "3.7.6"
  }
 },
 "nbformat": 4,
 "nbformat_minor": 4
}
