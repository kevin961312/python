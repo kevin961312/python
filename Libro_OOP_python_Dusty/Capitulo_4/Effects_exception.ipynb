{
 "cells": [
  {
   "cell_type": "code",
   "execution_count": null,
   "metadata": {},
   "outputs": [],
   "source": [
    "def no_return():\n",
    "    print('I am about to raised an exception')\n",
    "    raise Exception(\"This is always raised\")\n",
    "    print(\"This line will never execute\")\n",
    "    return \"I won't be returned\""
   ]
  },
  {
   "cell_type": "code",
   "execution_count": null,
   "metadata": {},
   "outputs": [],
   "source": [
    "def call_exceptor():\n",
    "    print('call_exceptor star here...')\n",
    "    no_return()\n",
    "    print('an exceptor was raised...')\n",
    "    print(\"...so these lines don't run\")"
   ]
  },
  {
   "cell_type": "code",
   "execution_count": null,
   "metadata": {},
   "outputs": [],
   "source": [
    "call_exceptor()"
   ]
  }
 ],
 "metadata": {
  "kernelspec": {
   "display_name": "Python 3",
   "language": "python",
   "name": "python3"
  },
  "language_info": {
   "codemirror_mode": {
    "name": "ipython",
    "version": 3
   },
   "file_extension": ".py",
   "mimetype": "text/x-python",
   "name": "python",
   "nbconvert_exporter": "python",
   "pygments_lexer": "ipython3",
   "version": "3.7.6"
  }
 },
 "nbformat": 4,
 "nbformat_minor": 4
}
