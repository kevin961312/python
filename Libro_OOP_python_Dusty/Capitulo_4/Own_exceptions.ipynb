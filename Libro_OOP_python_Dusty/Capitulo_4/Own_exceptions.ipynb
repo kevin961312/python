{
 "cells": [
  {
   "cell_type": "code",
   "execution_count": null,
   "metadata": {},
   "outputs": [],
   "source": [
    "class InvalidWithdrawal(Exception):\n",
    "    pass"
   ]
  },
  {
   "cell_type": "code",
   "execution_count": null,
   "metadata": {},
   "outputs": [],
   "source": [
    "raise InvalidWithdrawal(\"You don't have $50 in your account\")"
   ]
  },
  {
   "cell_type": "code",
   "execution_count": 1,
   "metadata": {
    "scrolled": true
   },
   "outputs": [
    {
     "ename": "InvalidWithdrawalt",
     "evalue": "You don't have $25 in your account",
     "output_type": "error",
     "traceback": [
      "\u001b[0;31m---------------------------------------------------------------------------\u001b[0m",
      "\u001b[0;31mInvalidWithdrawalt\u001b[0m                        Traceback (most recent call last)",
      "\u001b[0;32m<ipython-input-1-8cfd890824bb>\u001b[0m in \u001b[0;36m<module>\u001b[0;34m\u001b[0m\n\u001b[1;32m      7\u001b[0m     \u001b[0;32mdef\u001b[0m \u001b[0moverage\u001b[0m\u001b[0;34m(\u001b[0m\u001b[0mself\u001b[0m\u001b[0;34m)\u001b[0m\u001b[0;34m:\u001b[0m\u001b[0;34m\u001b[0m\u001b[0;34m\u001b[0m\u001b[0m\n\u001b[1;32m      8\u001b[0m         \u001b[0;32mreturn\u001b[0m \u001b[0mself\u001b[0m\u001b[0;34m.\u001b[0m\u001b[0mamount\u001b[0m\u001b[0;34m-\u001b[0m\u001b[0mself\u001b[0m\u001b[0;34m.\u001b[0m\u001b[0mbalance\u001b[0m\u001b[0;34m\u001b[0m\u001b[0;34m\u001b[0m\u001b[0m\n\u001b[0;32m----> 9\u001b[0;31m \u001b[0;32mraise\u001b[0m \u001b[0mInvalidWithdrawalt\u001b[0m\u001b[0;34m(\u001b[0m\u001b[0;36m25\u001b[0m\u001b[0;34m,\u001b[0m \u001b[0;36m50\u001b[0m\u001b[0;34m)\u001b[0m\u001b[0;34m\u001b[0m\u001b[0;34m\u001b[0m\u001b[0m\n\u001b[0m",
      "\u001b[0;31mInvalidWithdrawalt\u001b[0m: You don't have $25 in your account"
     ]
    }
   ],
   "source": [
    "class InvalidWithdrawalt(Exception):\n",
    "    def __init__(self, amount, balance):\n",
    "        super().__init__(\"You don't have ${} in your account\".format(amount))\n",
    "        self.amount = amount\n",
    "        self.balance = balance\n",
    "        \n",
    "    def overage(self):\n",
    "        return self.amount-self.balance\n",
    "raise InvalidWithdrawalt(25, 50)"
   ]
  },
  {
   "cell_type": "code",
   "execution_count": 2,
   "metadata": {},
   "outputs": [
    {
     "name": "stdout",
     "output_type": "stream",
     "text": [
      "I'm sorry, but your withdrawal is more than your balance by $-25\n"
     ]
    }
   ],
   "source": [
    "try:\n",
    "    raise InvalidWithdrawalt(25,50)\n",
    "except InvalidWithdrawalt as exc:\n",
    "    print(\"I'm sorry, but your withdrawal is \"\n",
    "          \"more than your balance by \"\n",
    "          \"${}\".format(exc.overage()))\n",
    "    "
   ]
  },
  {
   "cell_type": "code",
   "execution_count": 3,
   "metadata": {},
   "outputs": [],
   "source": [
    "def divide_with_exception(number, divisor):\n",
    "    try:\n",
    "        print(\"{}/{} = {}\".format(number,divisor, (number/divisor)*1.0))\n",
    "    except ZeroDivisionError:\n",
    "        print(\"You can't divide by zero\")    "
   ]
  },
  {
   "cell_type": "code",
   "execution_count": 4,
   "metadata": {},
   "outputs": [
    {
     "name": "stdout",
     "output_type": "stream",
     "text": [
      "You can't divide by zero\n"
     ]
    }
   ],
   "source": [
    "divide_with_exception(5,0)"
   ]
  },
  {
   "cell_type": "code",
   "execution_count": 5,
   "metadata": {},
   "outputs": [
    {
     "name": "stdout",
     "output_type": "stream",
     "text": [
      "1000/56464 = 0.017710399546613773\n"
     ]
    }
   ],
   "source": [
    "divide_with_exception(1000,56464)"
   ]
  },
  {
   "cell_type": "code",
   "execution_count": 6,
   "metadata": {},
   "outputs": [],
   "source": [
    "def divide_with_if(number,divisor):\n",
    "    if divisor == 0:\n",
    "        print(\"You can't divide by zero.\")\n",
    "    else:\n",
    "        print(\"{}/{} = {}\".format(number,divisor, (number/divisor)*1.0))"
   ]
  },
  {
   "cell_type": "code",
   "execution_count": 7,
   "metadata": {},
   "outputs": [
    {
     "name": "stdout",
     "output_type": "stream",
     "text": [
      "You can't divide by zero.\n"
     ]
    }
   ],
   "source": [
    "divide_with_if(5,0)"
   ]
  },
  {
   "cell_type": "code",
   "execution_count": 8,
   "metadata": {},
   "outputs": [
    {
     "name": "stdout",
     "output_type": "stream",
     "text": [
      "41564164/232 = 179155.87931034484\n"
     ]
    }
   ],
   "source": [
    "divide_with_if(41564164,232)"
   ]
  }
 ],
 "metadata": {
  "kernelspec": {
   "display_name": "Python 3",
   "language": "python",
   "name": "python3"
  },
  "language_info": {
   "codemirror_mode": {
    "name": "ipython",
    "version": 3
   },
   "file_extension": ".py",
   "mimetype": "text/x-python",
   "name": "python",
   "nbconvert_exporter": "python",
   "pygments_lexer": "ipython3",
   "version": "3.7.6"
  }
 },
 "nbformat": 4,
 "nbformat_minor": 4
}
